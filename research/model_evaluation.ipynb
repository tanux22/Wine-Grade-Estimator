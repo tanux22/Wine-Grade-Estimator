{
 "cells": [
  {
   "cell_type": "code",
   "execution_count": 37,
   "id": "ed715b9b",
   "metadata": {},
   "outputs": [],
   "source": [
    "import os"
   ]
  },
  {
   "cell_type": "code",
   "execution_count": 38,
   "id": "429225f9",
   "metadata": {},
   "outputs": [],
   "source": [
    "os.chdir(\"/home/tanush-reddy/workspace/Wine-Grade-Estimator\")"
   ]
  },
  {
   "cell_type": "code",
   "execution_count": 39,
   "id": "ebf87b0a",
   "metadata": {},
   "outputs": [],
   "source": [
    "from dataclasses import dataclass\n",
    "from pathlib import Path"
   ]
  },
  {
   "cell_type": "code",
   "execution_count": 40,
   "id": "a42df66f",
   "metadata": {},
   "outputs": [],
   "source": [
    "os.environ[\"MLFLOW_TRACKING_URI\"]=\"https://dagshub.com/atanushreddy/Wine-Grade-Estimator.mlflow\"\n",
    "os.environ[\"MLFLOW_TRACKING_USERNAME\"]=\"atanushreddy\"\n",
    "os.environ[\"MLFLOW_TRACKING_PASSWORD\"]=\"702b03e47aedac5981cd5ae775223366bc2b1711\"\n"
   ]
  },
  {
   "cell_type": "code",
   "execution_count": 41,
   "id": "351d396e",
   "metadata": {},
   "outputs": [],
   "source": [
    "from dataclasses import dataclass\n",
    "from pathlib import Path\n"
   ]
  },
  {
   "cell_type": "code",
   "execution_count": 42,
   "id": "d1ebe5d7",
   "metadata": {},
   "outputs": [],
   "source": [
    "@dataclass(frozen=True)\n",
    "class ModelEvaluationConfig:\n",
    "    \"\"\"\n",
    "    Configuration for model evaluation.\n",
    "    \"\"\"\n",
    "    root_dir: Path \n",
    "    test_data_file_path: Path\n",
    "    model_path :Path\n",
    "    all_params : dict\n",
    "    evaluation_report : Path\n",
    "    target_column: str\n",
    "    mlflow_uri: str"
   ]
  },
  {
   "cell_type": "code",
   "execution_count": 43,
   "id": "b6cd572c",
   "metadata": {},
   "outputs": [],
   "source": [
    "from src.constants import *\n",
    "from src.utils.common import read_yaml, create_directories\n"
   ]
  },
  {
   "cell_type": "code",
   "execution_count": 44,
   "id": "bff9b0d0",
   "metadata": {},
   "outputs": [],
   "source": [
    "class ConfigurationManager:\n",
    "    def __init__(self, config_file_path=CONFIG_FILE_PATH, params_file_path=PARAMS_FILE_PATH, schema_file_path=SCHEMA_FILE_PATH):\n",
    "        self.config_file_path = config_file_path\n",
    "        self.params_file_path = params_file_path\n",
    "        self.schema_file_path = schema_file_path\n",
    "\n",
    "        self.config = read_yaml(self.config_file_path)\n",
    "        self.params = read_yaml(self.params_file_path)\n",
    "        self.schema = read_yaml(self.schema_file_path)\n",
    "\n",
    "        create_directories([self.config.artifacts_root])\n",
    "        \n",
    "        \n",
    "        \n",
    "    def get_model_evaluation_config(self) -> ModelEvaluationConfig:\n",
    "        \"\"\"\n",
    "        Returns the configuration for model evaluation.\n",
    "        \"\"\"\n",
    "        config = self.config.model_evaluation\n",
    "        params = self.params.ElasticNet\n",
    "        schema = self.schema.TARGET_COLUMN\n",
    "        \n",
    "        create_directories([config.root_dir])\n",
    "\n",
    "        model_evaluation_config = ModelEvaluationConfig(\n",
    "            root_dir=Path(config.root_dir),\n",
    "            test_data_file_path=Path(config.test_data_file_path),\n",
    "            model_path=Path(config.model_path),\n",
    "            all_params=dict(params),\n",
    "            evaluation_report=Path(config.evaluation_report),\n",
    "            target_column=schema.name,\n",
    "            mlflow_uri=\"https://dagshub.com/atanushreddy/Wine-Grade-Estimator.mlflow\"\n",
    "        )\n",
    "\n",
    "        return model_evaluation_config\n",
    "    "
   ]
  },
  {
   "cell_type": "code",
   "execution_count": 45,
   "id": "e9e46123",
   "metadata": {},
   "outputs": [],
   "source": [
    "import os\n",
    "from src import logger\n",
    "from src.exception import CustomException\n",
    "import sys\n",
    "import pandas as pd\n",
    "from sklearn.metrics import r2_score, mean_absolute_error, mean_squared_error\n",
    "import mlflow\n",
    "from urllib.parse import urlparse\n",
    "import mlflow.sklearn\n",
    "import numpy as np  \n",
    "import joblib\n",
    "from src.utils.common import save_json\n",
    "import tempfile"
   ]
  },
  {
   "cell_type": "code",
   "execution_count": 46,
   "id": "fea87ec3",
   "metadata": {},
   "outputs": [],
   "source": [
    "class ModelEvaluation:\n",
    "    def __init__(self, config: ModelEvaluationConfig):\n",
    "        self.config = config\n",
    "        \n",
    "        \n",
    "    def eval_metrics(self, actual, predicted):\n",
    "        \"\"\"\n",
    "        Calculate evaluation metrics.\n",
    "        \"\"\"\n",
    "        r2 = r2_score(actual, predicted)\n",
    "        mae = mean_absolute_error(actual, predicted)\n",
    "        mse = mean_squared_error(actual, predicted)\n",
    "        rmse = np.sqrt(mse)\n",
    "\n",
    "        return rmse, mae, mse, r2\n",
    "\n",
    "    def log_into_mlflow(self):\n",
    "        \"\"\" Log evaluation metrics into MLflow.\n",
    "        \"\"\"\n",
    "        try:\n",
    "            test_df = pd.read_csv(self.config.test_data_file_path)\n",
    "            model=joblib.load(self.config.model_path)\n",
    "        \n",
    "            X_test = test_df.drop(columns=[self.config.target_column],axis=1)\n",
    "            y_test = test_df[self.config.target_column]\n",
    "        \n",
    "            mlflow.set_tracking_uri(self.config.mlflow_uri)\n",
    "            mlflow.set_experiment(\"WineGradeEvaluation\")\n",
    "            tracking_uri = urlparse(mlflow.get_tracking_uri()).scheme\n",
    "            \n",
    "            with mlflow.start_run():\n",
    "                predicted_qualities = model.predict(X_test)\n",
    "                rmse, mae, mse, r2 = self.eval_metrics(y_test, predicted_qualities)\n",
    "                \n",
    "                scores = {\n",
    "                    \"rmse\": rmse,\n",
    "                    \"mae\": mae,\n",
    "                    \"mse\": mse,\n",
    "                    \"r2\": r2\n",
    "                }\n",
    "                \n",
    "                save_json(file_path=Path(self.config.evaluation_report), data=scores)\n",
    "                \n",
    "                mlflow.log_params(self.config.all_params)\n",
    "                mlflow.log_metric(\"rmse\", rmse)\n",
    "                mlflow.log_metric(\"mae\", mae)\n",
    "                mlflow.log_metric(\"mse\", mse)\n",
    "                mlflow.log_metric(\"r2\", r2)\n",
    "                \n",
    "                with tempfile.TemporaryDirectory() as temp_dir:\n",
    "                    model_output_path = os.path.join(temp_dir, \"model\")\n",
    "                    os.makedirs(model_output_path, exist_ok=True)\n",
    "                    joblib.dump(model, os.path.join(model_output_path, \"model.pkl\"))\n",
    "                    mlflow.log_artifacts(model_output_path, artifact_path=\"model\")\n",
    "                \n",
    "        except Exception as e:\n",
    "            raise CustomException(e, sys)"
   ]
  },
  {
   "cell_type": "code",
   "execution_count": 47,
   "id": "3849187a",
   "metadata": {},
   "outputs": [
    {
     "name": "stdout",
     "output_type": "stream",
     "text": [
      "[2025-07-30 13:03:40,461] 28 WineGradeEstimator - INFO - YAML file config/config.yaml read successfully.\n",
      "[2025-07-30 13:03:40,463] 28 WineGradeEstimator - INFO - YAML file params.yaml read successfully.\n",
      "[2025-07-30 13:03:40,466] 28 WineGradeEstimator - INFO - YAML file schema.yaml read successfully.\n",
      "[2025-07-30 13:03:40,468] 46 WineGradeEstimator - INFO - Directory created: artifacts\n",
      "[2025-07-30 13:03:40,469] 46 WineGradeEstimator - INFO - Directory created: artifacts/model_evaluation\n"
     ]
    },
    {
     "name": "stderr",
     "output_type": "stream",
     "text": [
      "2025/07/30 13:03:41 INFO mlflow.tracking.fluent: Experiment with name 'WineGradeEvaluation' does not exist. Creating a new experiment.\n"
     ]
    },
    {
     "name": "stdout",
     "output_type": "stream",
     "text": [
      "[2025-07-30 13:03:42,291] 62 WineGradeEstimator - INFO - Data saved to JSON file: artifacts/model_evaluation/evaluation_report.json\n",
      "🏃 View run bright-roo-283 at: https://dagshub.com/atanushreddy/Wine-Grade-Estimator.mlflow/#/experiments/1/runs/2e133d5725774c2fb83381eeaf17b2be\n",
      "🧪 View experiment at: https://dagshub.com/atanushreddy/Wine-Grade-Estimator.mlflow/#/experiments/1\n"
     ]
    }
   ],
   "source": [
    "try:\n",
    "    config = ConfigurationManager()\n",
    "    model_eval_config = config.get_model_evaluation_config()\n",
    "    model_eval_config = ModelEvaluation(config=model_eval_config)\n",
    "    model_eval_config.log_into_mlflow()\n",
    "except Exception as e:\n",
    "    logger.error(f\"Error during model evaluation: {e}\")\n",
    "    raise CustomException(e, sys)"
   ]
  },
  {
   "cell_type": "code",
   "execution_count": null,
   "id": "5361e68e",
   "metadata": {},
   "outputs": [],
   "source": [
    "\n"
   ]
  }
 ],
 "metadata": {
  "kernelspec": {
   "display_name": "myenv",
   "language": "python",
   "name": "python3"
  },
  "language_info": {
   "codemirror_mode": {
    "name": "ipython",
    "version": 3
   },
   "file_extension": ".py",
   "mimetype": "text/x-python",
   "name": "python",
   "nbconvert_exporter": "python",
   "pygments_lexer": "ipython3",
   "version": "3.11.4"
  }
 },
 "nbformat": 4,
 "nbformat_minor": 5
}
