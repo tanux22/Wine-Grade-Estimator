{
 "cells": [
  {
   "cell_type": "code",
   "execution_count": 14,
   "id": "cfcb13b5",
   "metadata": {},
   "outputs": [],
   "source": [
    "import os"
   ]
  },
  {
   "cell_type": "code",
   "execution_count": 15,
   "id": "b53f5828",
   "metadata": {},
   "outputs": [
    {
     "data": {
      "text/plain": [
       "'/home/tanush-reddy/workspace/Wine-Grade-Estimator'"
      ]
     },
     "execution_count": 15,
     "metadata": {},
     "output_type": "execute_result"
    }
   ],
   "source": [
    "%pwd"
   ]
  },
  {
   "cell_type": "code",
   "execution_count": 16,
   "id": "564bee1e",
   "metadata": {},
   "outputs": [],
   "source": [
    "os.chdir(\"/home/tanush-reddy/workspace/Wine-Grade-Estimator\")"
   ]
  },
  {
   "cell_type": "code",
   "execution_count": 17,
   "id": "033d140c",
   "metadata": {},
   "outputs": [
    {
     "data": {
      "text/plain": [
       "'/home/tanush-reddy/workspace/Wine-Grade-Estimator'"
      ]
     },
     "execution_count": 17,
     "metadata": {},
     "output_type": "execute_result"
    }
   ],
   "source": [
    "%pwd"
   ]
  },
  {
   "cell_type": "code",
   "execution_count": 18,
   "id": "f34efab8",
   "metadata": {},
   "outputs": [],
   "source": [
    "from dataclasses import dataclass\n",
    "from pathlib import Path\n",
    "\n",
    "@dataclass\n",
    "class DataTransformationConfig:\n",
    "    root_dir: Path\n",
    "    data_path: Path"
   ]
  },
  {
   "cell_type": "code",
   "execution_count": 19,
   "id": "821440dd",
   "metadata": {},
   "outputs": [],
   "source": [
    "from src.constants import *\n",
    "from src.utils.common import read_yaml, create_directories"
   ]
  },
  {
   "cell_type": "code",
   "execution_count": null,
   "id": "78d1e540",
   "metadata": {},
   "outputs": [],
   "source": [
    "class ConfigurationManager:\n",
    "    def __init__(self, config_file_path=CONFIG_FILE_PATH, params_file_path=PARAMS_FILE_PATH, schema_file_path=SCHEMA_FILE_PATH):\n",
    "        self.config_file_path = config_file_path\n",
    "        self.params_file_path = params_file_path\n",
    "        self.schema_file_path = schema_file_path\n",
    "\n",
    "        self.config = read_yaml(self.config_file_path)\n",
    "        self.params = read_yaml(self.params_file_path)\n",
    "        self.schema = read_yaml(self.schema_file_path)\n",
    "\n",
    "        create_directories([self.config.artifacts_root])\n",
    "        \n",
    "        \n",
    "    def get_data_transformation_config(self) -> DataTransformationConfig:\n",
    "        config = self.config.data_transformation\n",
    "        \n",
    "        create_directories([config.root_dir])\n",
    "        \n",
    "        data_transformation_config = DataTransformationConfig(\n",
    "            root_dir=Path(config.root_dir),\n",
    "            data_path=Path(config.data_path)\n",
    "        )\n",
    "        return data_transformation_config"
   ]
  },
  {
   "cell_type": "code",
   "execution_count": 21,
   "id": "4bff5dcf",
   "metadata": {},
   "outputs": [],
   "source": [
    "import os\n",
    "from src import logger\n",
    "from src.exception import CustomException\n",
    "import sys\n",
    "import pandas as pd\n",
    "from sklearn.model_selection import train_test_split"
   ]
  },
  {
   "cell_type": "code",
   "execution_count": 22,
   "id": "9f390ddc",
   "metadata": {},
   "outputs": [],
   "source": [
    "class DataTransformation:\n",
    "    def __init__(self, config: DataTransformationConfig):\n",
    "        self.config = config\n",
    "        \n",
    "       \n",
    "    def train_test_split(self):\n",
    "        try:\n",
    "            df = pd.read_csv(self.config.data_path)\n",
    "            train,test=train_test_split(df, test_size=0.2, random_state=42)\n",
    "            train.to_csv(os.path.join(self.config.root_dir, 'train.csv'), index=False)\n",
    "            test.to_csv(os.path.join(self.config.root_dir, 'test.csv'), index=False)\n",
    "            logger.info(\"Data split into train and test sets successfully.\")\n",
    "            logger.info(train.shape)\n",
    "            logger.info(test.shape)\n",
    "        except Exception as e:\n",
    "            raise CustomException(e,sys) from e   \n",
    "    "
   ]
  },
  {
   "cell_type": "code",
   "execution_count": 24,
   "id": "1393312a",
   "metadata": {},
   "outputs": [
    {
     "name": "stdout",
     "output_type": "stream",
     "text": [
      "[2025-07-29 00:26:26,672] 28 WineGradeEstimator - INFO - YAML file config/config.yaml read successfully.\n",
      "[2025-07-29 00:26:26,673] 28 WineGradeEstimator - INFO - YAML file params.yaml read successfully.\n",
      "[2025-07-29 00:26:26,675] 28 WineGradeEstimator - INFO - YAML file schema.yaml read successfully.\n",
      "[2025-07-29 00:26:26,676] 46 WineGradeEstimator - INFO - Directory created: artifacts\n",
      "[2025-07-29 00:26:26,677] 46 WineGradeEstimator - INFO - Directory created: artifacts/data_transformation\n",
      "[2025-07-29 00:26:26,710] 12 WineGradeEstimator - INFO - Data split into train and test sets successfully.\n",
      "[2025-07-29 00:26:26,710] 13 WineGradeEstimator - INFO - (1279, 12)\n",
      "[2025-07-29 00:26:26,710] 14 WineGradeEstimator - INFO - (320, 12)\n"
     ]
    }
   ],
   "source": [
    "try:\n",
    "    config = ConfigurationManager()\n",
    "    data_transformation_config = config.get_data_transformation_config()\n",
    "    data_transformation= DataTransformation(config=data_transformation_config)\n",
    "    data_transformation.train_test_split()\n",
    "except Exception as e:\n",
    "    logger.error(f\"An error occurred: {str(e)}\")\n",
    "    raise CustomException(e,sys) from e   "
   ]
  },
  {
   "cell_type": "code",
   "execution_count": null,
   "id": "2afa182b",
   "metadata": {},
   "outputs": [],
   "source": []
  }
 ],
 "metadata": {
  "kernelspec": {
   "display_name": "myenv",
   "language": "python",
   "name": "python3"
  },
  "language_info": {
   "codemirror_mode": {
    "name": "ipython",
    "version": 3
   },
   "file_extension": ".py",
   "mimetype": "text/x-python",
   "name": "python",
   "nbconvert_exporter": "python",
   "pygments_lexer": "ipython3",
   "version": "3.11.4"
  }
 },
 "nbformat": 4,
 "nbformat_minor": 5
}
