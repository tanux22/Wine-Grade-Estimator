{
 "cells": [
  {
   "cell_type": "code",
   "execution_count": 1,
   "id": "7ee20b03",
   "metadata": {},
   "outputs": [
    {
     "name": "stdout",
     "output_type": "stream",
     "text": [
      "/home/tanush-reddy/workspace/Wine-Grade-Estimator/research\n"
     ]
    }
   ],
   "source": [
    "import os\n",
    "from src.exception import CustomException\n",
    "import sys\n",
    "print(os.getcwd())"
   ]
  },
  {
   "cell_type": "code",
   "execution_count": 2,
   "id": "d5a36dc1",
   "metadata": {},
   "outputs": [],
   "source": [
    "os.chdir(\"../\")"
   ]
  },
  {
   "cell_type": "code",
   "execution_count": 3,
   "id": "84757734",
   "metadata": {},
   "outputs": [
    {
     "name": "stdout",
     "output_type": "stream",
     "text": [
      "/home/tanush-reddy/workspace/Wine-Grade-Estimator\n"
     ]
    }
   ],
   "source": [
    "print(os.getcwd())"
   ]
  },
  {
   "cell_type": "code",
   "execution_count": 19,
   "id": "2c91d570",
   "metadata": {},
   "outputs": [],
   "source": [
    "from dataclasses import dataclass\n",
    "from pathlib import Path\n",
    "\n",
    "@dataclass\n",
    "class DataIngestionConfig:\n",
    "    root_dir: Path\n",
    "    source_url: str\n",
    "    local_data_file: Path\n",
    "    unzip_dir: Path"
   ]
  },
  {
   "cell_type": "code",
   "execution_count": 20,
   "id": "3b2c6692",
   "metadata": {},
   "outputs": [],
   "source": [
    "from src.constants import CONFIG_FILE_PATH, PARAMS_FILE_PATH, SCHEMA_FILE_PATH\n",
    "from src.utils.common import read_yaml, create_directories\n"
   ]
  },
  {
   "cell_type": "code",
   "execution_count": 21,
   "id": "07f61fd9",
   "metadata": {},
   "outputs": [],
   "source": [
    "class ConfigurationManager:\n",
    "    def __init__(self, config_file_path=CONFIG_FILE_PATH, params_file_path=PARAMS_FILE_PATH, schema_file_path=SCHEMA_FILE_PATH):\n",
    "        # ✅ Save parameters as instance variables\n",
    "        self.config_file_path = config_file_path\n",
    "        self.params_file_path = params_file_path\n",
    "        self.schema_file_path = schema_file_path\n",
    "\n",
    "        # ✅ Now you can use them\n",
    "        self.config = read_yaml(self.config_file_path)\n",
    "        self.params = read_yaml(self.params_file_path)\n",
    "        self.schema = read_yaml(self.schema_file_path)\n",
    "\n",
    "        create_directories([self.config.artifacts_root])\n",
    "\n",
    "        \n",
    "    def get_data_ingestion_config(self) -> DataIngestionConfig:\n",
    "        config = self.config.data_ingestion\n",
    "        create_directories([config.root_dir, config.unzip_dir])\n",
    "        \n",
    "        data_ingestion_config = DataIngestionConfig(\n",
    "            root_dir=Path(config.root_dir),\n",
    "            source_url=config.source_url,\n",
    "            local_data_file=Path(config.local_data_file),\n",
    "            unzip_dir=Path(config.unzip_dir)\n",
    "        )\n",
    "        \n",
    "        return data_ingestion_config\n",
    "    \n",
    "    \n",
    "    "
   ]
  },
  {
   "cell_type": "code",
   "execution_count": 22,
   "id": "4e1e45b3",
   "metadata": {},
   "outputs": [],
   "source": [
    "import os\n",
    "import urllib.request as request\n",
    "import zipfile\n",
    "from src.utils.common import get_size\n",
    "from src import logger"
   ]
  },
  {
   "cell_type": "code",
   "execution_count": 27,
   "id": "09f44fdd",
   "metadata": {},
   "outputs": [],
   "source": [
    "class DataIngestion:\n",
    "    def __init__(self, config: DataIngestionConfig):\n",
    "        self.config = config\n",
    "\n",
    "    def download_data(self):\n",
    "        if not os.path.exists(self.config.local_data_file):\n",
    "            logger.info(f\"Downloading data from {self.config.source_url} to {self.config.local_data_file}\")\n",
    "            filename, headers=request.urlretrieve(url=self.config.source_url,filename= self.config.local_data_file)\n",
    "            # logger.info(f\"Downloaded {get_size(self.config.local_data_file)} bytes\")\n",
    "\n",
    "    def unzip_data(self):\n",
    "        unzip_path = self.config.unzip_dir\n",
    "        os.makedirs(unzip_path, exist_ok=True)\n",
    "        with zipfile.ZipFile(self.config.local_data_file, 'r') as zip_ref:\n",
    "            zip_ref.extractall(unzip_path)\n",
    "            \n",
    "    \n"
   ]
  },
  {
   "cell_type": "code",
   "execution_count": 28,
   "id": "20dab8a4",
   "metadata": {},
   "outputs": [
    {
     "name": "stdout",
     "output_type": "stream",
     "text": [
      "Tanush\n",
      "21\n"
     ]
    }
   ],
   "source": [
    "from box import ConfigBox\n",
    "\n",
    "data = ConfigBox({\"name\": \"Tanush\", \"age\": 21})\n",
    "\n",
    "print(data.name)  # instead of data[\"name\"]\n",
    "print(data.age)   # instead of data[\"age\"]\n"
   ]
  },
  {
   "cell_type": "code",
   "execution_count": null,
   "id": "87911308",
   "metadata": {},
   "outputs": [
    {
     "name": "stdout",
     "output_type": "stream",
     "text": [
      "[2025-07-28 19:21:20,222] 28 WineGradeEstimator - INFO - YAML file config/config.yaml read successfully.\n",
      "[2025-07-28 19:21:20,224] 28 WineGradeEstimator - INFO - YAML file params.yaml read successfully.\n",
      "[2025-07-28 19:21:20,225] 28 WineGradeEstimator - INFO - YAML file schema.yaml read successfully.\n",
      "[2025-07-28 19:21:20,226] 46 WineGradeEstimator - INFO - Directory created: artifacts\n",
      "[2025-07-28 19:21:20,227] 46 WineGradeEstimator - INFO - Directory created: artifacts/data_ingestion\n",
      "[2025-07-28 19:21:20,228] 46 WineGradeEstimator - INFO - Directory created: artifacts/data_ingestion\n"
     ]
    }
   ],
   "source": [
    "try:\n",
    "    config=ConfigurationManager()\n",
    "    data_ingestion_config = config.get_data_ingestion_config()\n",
    "    data_ingestion = DataIngestion(config=data_ingestion_config)\n",
    "    data_ingestion.download_data() \n",
    "    data_ingestion.unzip_data()\n",
    "except Exception as e:\n",
    "    raise CustomException(e, sys) from e"
   ]
  },
  {
   "cell_type": "code",
   "execution_count": null,
   "id": "9854ef8c",
   "metadata": {},
   "outputs": [],
   "source": [
    "import os"
   ]
  },
  {
   "cell_type": "code",
   "execution_count": null,
   "id": "5bd161d2",
   "metadata": {},
   "outputs": [],
   "source": []
  }
 ],
 "metadata": {
  "kernelspec": {
   "display_name": "myenv",
   "language": "python",
   "name": "python3"
  },
  "language_info": {
   "codemirror_mode": {
    "name": "ipython",
    "version": 3
   },
   "file_extension": ".py",
   "mimetype": "text/x-python",
   "name": "python",
   "nbconvert_exporter": "python",
   "pygments_lexer": "ipython3",
   "version": "3.11.4"
  }
 },
 "nbformat": 4,
 "nbformat_minor": 5
}
