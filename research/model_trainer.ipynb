{
 "cells": [
  {
   "cell_type": "code",
   "execution_count": 1,
   "id": "35a78675",
   "metadata": {},
   "outputs": [],
   "source": [
    "import os"
   ]
  },
  {
   "cell_type": "code",
   "execution_count": 2,
   "id": "ff902891",
   "metadata": {},
   "outputs": [],
   "source": [
    "os.chdir(\"/home/tanush-reddy/workspace/Wine-Grade-Estimator\")"
   ]
  },
  {
   "cell_type": "code",
   "execution_count": 3,
   "id": "48d8bcc1",
   "metadata": {},
   "outputs": [
    {
     "data": {
      "text/plain": [
       "'/home/tanush-reddy/workspace/Wine-Grade-Estimator'"
      ]
     },
     "execution_count": 3,
     "metadata": {},
     "output_type": "execute_result"
    }
   ],
   "source": [
    "%pwd"
   ]
  },
  {
   "cell_type": "code",
   "execution_count": 4,
   "id": "2c26d3e9",
   "metadata": {},
   "outputs": [],
   "source": [
    "from dataclasses import dataclass\n",
    "from pathlib import Path\n",
    "\n",
    "@dataclass(frozen=True)\n",
    "class ModelTrainerConfig:\n",
    "    root_dir: Path \n",
    "    train_data_path: Path \n",
    "    test_data_path: Path\n",
    "    model_name: str\n",
    "    alpha: float \n",
    "    l1_ratio: float\n",
    "    target_column: str"
   ]
  },
  {
   "cell_type": "code",
   "execution_count": 5,
   "id": "1973ee02",
   "metadata": {},
   "outputs": [],
   "source": [
    "from src.constants import *\n",
    "from src.utils.common import read_yaml, create_directories\n"
   ]
  },
  {
   "cell_type": "code",
   "execution_count": 6,
   "id": "f88524fb",
   "metadata": {},
   "outputs": [],
   "source": [
    "class ConfigurationManager:\n",
    "    def __init__(self, config_file_path=CONFIG_FILE_PATH, params_file_path=PARAMS_FILE_PATH, schema_file_path=SCHEMA_FILE_PATH):\n",
    "        self.config_file_path = config_file_path\n",
    "        self.params_file_path = params_file_path\n",
    "        self.schema_file_path = schema_file_path\n",
    "\n",
    "        self.config = read_yaml(self.config_file_path)\n",
    "        self.params = read_yaml(self.params_file_path)\n",
    "        self.schema = read_yaml(self.schema_file_path)\n",
    "\n",
    "        create_directories([self.config.artifacts_root])\n",
    "        \n",
    "        \n",
    "    def get_model_trainer_config(self) -> ModelTrainerConfig:\n",
    "        config = self.config.model_trainer\n",
    "        params = self.params.ElasticNet\n",
    "        schema = self.schema.TARGET_COLUMN\n",
    "        \n",
    "        create_directories([Path(config.root_dir)])\n",
    "        \n",
    "        model_trainer_config = ModelTrainerConfig(\n",
    "            root_dir=Path(config.root_dir),\n",
    "            train_data_path=Path(config.train_data_path),\n",
    "            test_data_path=Path(config.test_data_path),\n",
    "            model_name=config.model_name,\n",
    "            alpha=params.alpha,\n",
    "            l1_ratio=params.l1_ratio,\n",
    "            target_column=schema.name\n",
    "        )\n",
    "        \n",
    "        return model_trainer_config\n",
    "        \n",
    "        \n",
    "    "
   ]
  },
  {
   "cell_type": "code",
   "execution_count": 10,
   "id": "36e8d2b1",
   "metadata": {},
   "outputs": [],
   "source": [
    "import os\n",
    "from src import logger\n",
    "from src.exception import CustomException\n",
    "import sys\n",
    "import joblib\n",
    "from sklearn.linear_model import ElasticNet\n",
    "import pandas as pd"
   ]
  },
  {
   "cell_type": "code",
   "execution_count": 12,
   "id": "69b8ccea",
   "metadata": {},
   "outputs": [],
   "source": [
    "class ModelTrainer:\n",
    "    def __init__(self, config: ModelTrainerConfig):\n",
    "        self.config = config\n",
    "\n",
    "    def train(self):\n",
    "        try:\n",
    "            logger.info(\"Training the model...\")\n",
    "            train_df = pd.read_csv(self.config.train_data_path)\n",
    "            test_df = pd.read_csv(self.config.test_data_path)\n",
    "            \n",
    "            X_train = train_df.drop(columns=[self.config.target_column],axis=1)\n",
    "            y_train = train_df[self.config.target_column]\n",
    "            X_test = test_df.drop(columns=[self.config.target_column],axis=1)\n",
    "            y_test = test_df[self.config.target_column]\n",
    "            \n",
    "            lr= ElasticNet(\n",
    "                alpha=self.config.alpha,\n",
    "                l1_ratio=self.config.l1_ratio,\n",
    "                random_state=42\n",
    "            )\n",
    "            \n",
    "            lr.fit(X_train, y_train)\n",
    "            joblib.dump(lr, os.path.join(self.config.root_dir, self.config.model_name))\n",
    "            \n",
    "            logger.info(f\"Model trained and saved at {self.config.root_dir / self.config.model_name}\")\n",
    "        except Exception as e:\n",
    "            raise CustomException(e, sys) from e"
   ]
  },
  {
   "cell_type": "code",
   "execution_count": null,
   "id": "6b404749",
   "metadata": {},
   "outputs": [
    {
     "name": "stdout",
     "output_type": "stream",
     "text": [
      "[2025-07-29 23:36:25,145] 28 WineGradeEstimator - INFO - YAML file config/config.yaml read successfully.\n",
      "[2025-07-29 23:36:25,147] 28 WineGradeEstimator - INFO - YAML file params.yaml read successfully.\n",
      "[2025-07-29 23:36:25,148] 28 WineGradeEstimator - INFO - YAML file schema.yaml read successfully.\n",
      "[2025-07-29 23:36:25,149] 46 WineGradeEstimator - INFO - Directory created: artifacts\n",
      "[2025-07-29 23:36:25,149] 46 WineGradeEstimator - INFO - Directory created: artifacts/model_trainer\n",
      "[2025-07-29 23:36:25,150] 7 WineGradeEstimator - INFO - Training the model...\n",
      "[2025-07-29 23:36:25,160] 25 WineGradeEstimator - INFO - Model trained and saved at artifacts/model_trainer/model.joblib\n"
     ]
    }
   ],
   "source": [
    "try:\n",
    "    config_manager = ConfigurationManager()\n",
    "    model_trainer_config = config_manager.get_model_trainer_config()\n",
    "    model_trainer = ModelTrainer(config=model_trainer_config)\n",
    "    model_trainer.train()\n",
    "except Exception as e: \n",
    "    logger.error(f\"Error occurred during model training: {e}\")\n",
    "    raise CustomException(e, sys) from e"
   ]
  },
  {
   "cell_type": "code",
   "execution_count": null,
   "id": "62152748",
   "metadata": {},
   "outputs": [],
   "source": []
  }
 ],
 "metadata": {
  "kernelspec": {
   "display_name": "myenv",
   "language": "python",
   "name": "python3"
  },
  "language_info": {
   "codemirror_mode": {
    "name": "ipython",
    "version": 3
   },
   "file_extension": ".py",
   "mimetype": "text/x-python",
   "name": "python",
   "nbconvert_exporter": "python",
   "pygments_lexer": "ipython3",
   "version": "3.11.4"
  }
 },
 "nbformat": 4,
 "nbformat_minor": 5
}
