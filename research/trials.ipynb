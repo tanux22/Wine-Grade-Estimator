{
 "cells": [
  {
   "cell_type": "code",
   "execution_count": null,
   "id": "ac2b4776",
   "metadata": {},
   "outputs": [],
   "source": []
  }
 ],
 "metadata": {
  "kernelspec": {
   "display_name": "myenv",
   "language": "python",
   "name": "python3"
  },
  "language_info": {
   "name": "python",
   "version": "3.11.4"
  }
 },
 "nbformat": 4,
 "nbformat_minor": 5
}
